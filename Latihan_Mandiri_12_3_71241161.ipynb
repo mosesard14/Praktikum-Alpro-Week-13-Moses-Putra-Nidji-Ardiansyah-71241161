{
  "nbformat": 4,
  "nbformat_minor": 0,
  "metadata": {
    "colab": {
      "provenance": [],
      "authorship_tag": "ABX9TyMyeBJNLGTNyGatzh2O+h6c",
      "include_colab_link": true
    },
    "kernelspec": {
      "name": "python3",
      "display_name": "Python 3"
    },
    "language_info": {
      "name": "python"
    }
  },
  "cells": [
    {
      "cell_type": "markdown",
      "metadata": {
        "id": "view-in-github",
        "colab_type": "text"
      },
      "source": [
        "<a href=\"https://colab.research.google.com/github/mosesard14/Praktikum-Alpro-Week-13-Moses-Putra-Nidji-Ardiansyah-71241161/blob/main/Latihan_Mandiri_12_3_71241161.ipynb\" target=\"_parent\"><img src=\"https://colab.research.google.com/assets/colab-badge.svg\" alt=\"Open In Colab\"/></a>"
      ]
    },
    {
      "cell_type": "code",
      "execution_count": null,
      "metadata": {
        "id": "bn4-jAaxRgk8"
      },
      "outputs": [],
      "source": [
        "nama_file = input('Masukkan nama file .txt : ')\n",
        "\n",
        "try:\n",
        "  with open (nama_file, 'r') as file:\n",
        "    jam = {}\n",
        "    for i in file:\n",
        "      if i.startwith('From'):\n",
        "        waktu = i.split()[5].split()[0]\n",
        "        jam[waktu] = jam.get(waktu,0) + 1\n",
        "\n",
        "    for k in sorted(jam):\n",
        "      print(k, jam[k])\n",
        "except FileNotFoundError:\n",
        "  print('File tidak ditemukan')"
      ]
    }
  ]
}