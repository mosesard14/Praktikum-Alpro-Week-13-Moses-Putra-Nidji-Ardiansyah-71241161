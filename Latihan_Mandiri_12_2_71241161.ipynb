{
  "nbformat": 4,
  "nbformat_minor": 0,
  "metadata": {
    "colab": {
      "provenance": [],
      "authorship_tag": "ABX9TyPZxQ9V4HlDR5YWZ1BZ4REn",
      "include_colab_link": true
    },
    "kernelspec": {
      "name": "python3",
      "display_name": "Python 3"
    },
    "language_info": {
      "name": "python"
    }
  },
  "cells": [
    {
      "cell_type": "markdown",
      "metadata": {
        "id": "view-in-github",
        "colab_type": "text"
      },
      "source": [
        "<a href=\"https://colab.research.google.com/github/mosesard14/Praktikum-Alpro-Week-13-Moses-Putra-Nidji-Ardiansyah-71241161/blob/main/Latihan_Mandiri_12_2_71241161.ipynb\" target=\"_parent\"><img src=\"https://colab.research.google.com/assets/colab-badge.svg\" alt=\"Open In Colab\"/></a>"
      ]
    },
    {
      "cell_type": "code",
      "execution_count": 28,
      "metadata": {
        "colab": {
          "base_uri": "https://localhost:8080/"
        },
        "id": "sXiKaW24K7hS",
        "outputId": "d5467677-618b-4bcb-8018-737373f53f78"
      },
      "outputs": [
        {
          "output_type": "stream",
          "name": "stdout",
          "text": [
            "NIM    : 71241161\n",
            "NAMA   : Moses Putra Nidji\n",
            "ALAMAT : Pati, Jateng\n",
            "\n",
            "NIM : ('7', '1', '2', '4', '1', '1', '6', '1')\n",
            "\n",
            "NAMA : ('o', 's', 'e', 's')\n",
            "\n",
            "NAMA TERBALIK: ('Nidji', 'Putra', 'Moses')\n"
          ]
        }
      ],
      "source": [
        "data = ('Moses Putra Nidji', '71241161', 'Pati, Jateng')\n",
        "\n",
        "print('NIM    :', data[1])\n",
        "print('NAMA   :', data[0])\n",
        "print(f'ALAMAT : {data[2]}\\n')\n",
        "\n",
        "nim_tuple = tuple(data[1])\n",
        "print(f'NIM : {nim_tuple}\\n')\n",
        "\n",
        "nama_depan = data[0].split()[0]\n",
        "nama = nama_depan[1:]\n",
        "nama_depan_tuple = tuple(nama)\n",
        "print(f'NAMA : {nama_depan_tuple}\\n')\n",
        "\n",
        "nama_terbalik = tuple(data[0].split()[::-1])\n",
        "print('NAMA TERBALIK:',nama_terbalik)"
      ]
    },
    {
      "cell_type": "markdown",
      "source": [],
      "metadata": {
        "id": "tMr8yc_-PR7y"
      }
    }
  ]
}