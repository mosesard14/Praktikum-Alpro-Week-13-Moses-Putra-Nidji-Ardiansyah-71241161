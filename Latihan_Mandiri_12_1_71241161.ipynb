{
  "nbformat": 4,
  "nbformat_minor": 0,
  "metadata": {
    "colab": {
      "provenance": [],
      "authorship_tag": "ABX9TyOQwh79RumiRSd4Pbanh+Pa",
      "include_colab_link": true
    },
    "kernelspec": {
      "name": "python3",
      "display_name": "Python 3"
    },
    "language_info": {
      "name": "python"
    }
  },
  "cells": [
    {
      "cell_type": "markdown",
      "metadata": {
        "id": "view-in-github",
        "colab_type": "text"
      },
      "source": [
        "<a href=\"https://colab.research.google.com/github/mosesard14/Praktikum-Alpro-Week-13-Moses-Putra-Nidji-Ardiansyah-71241161/blob/main/Latihan_Mandiri_12_1_71241161.ipynb\" target=\"_parent\"><img src=\"https://colab.research.google.com/assets/colab-badge.svg\" alt=\"Open In Colab\"/></a>"
      ]
    },
    {
      "cell_type": "code",
      "execution_count": 10,
      "metadata": {
        "colab": {
          "base_uri": "https://localhost:8080/"
        },
        "id": "uFwnMgohG8qs",
        "outputId": "694e949d-7624-4e55-be96-5b15d37bf665"
      },
      "outputs": [
        {
          "output_type": "stream",
          "name": "stdout",
          "text": [
            "True\n"
          ]
        }
      ],
      "source": [
        "def semua_sama(teks):\n",
        "  for i in teks:\n",
        "    if i != teks[0]:\n",
        "      return False\n",
        "  return True\n",
        "teks = (90, 90, 90, 90)\n",
        "print(semua_sama(teks))"
      ]
    }
  ]
}